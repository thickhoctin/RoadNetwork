{
 "cells": [
  {
   "cell_type": "markdown",
   "metadata": {},
   "source": [
    "In the first exercise, you will design a small road network in SUMO according to specific requirements and then define a particular demand for the network. Using the SUMO config files, you will bring together the road network and traffic demand into a simulation. With the help of a Python script, you will start the simulation and extract macroscopic traffic information from it.\n",
    "\n",
    "At the beginning, enter your name and student number in the next cell and execute it. Subsequently, your individual task will be generated.\n",
    "\n",
    "The exercise is considered passed if at least 10 out of the 12 sub-tasks are successfully implemented."
   ]
  },
  {
   "cell_type": "code",
   "metadata": {
    "ExecuteTime": {
     "end_time": "2025-03-26T13:52:55.547009Z",
     "start_time": "2025-03-26T13:52:55.445544Z"
    }
   },
   "source": [
    "from aufg import *\n",
    "\n",
    "Name = 'Thanh Tung Nguyen'\n",
    "Matrikelnummer = 146349\n",
    "\n",
    "generate_aufgabe(Matrikelnummer)"
   ],
   "outputs": [
    {
     "name": "stdout",
     "output_type": "stream",
     "text": [
      "\n",
      "    Your task in the first exercise will be to define a traffic network with 4 intersections/nodes (1),\n",
      "    the edges between the nodes must have a length of 150 meters (2). All edges should be\n",
      "    drivable in both directions, and have 3 lanes per direction (3). Within the\n",
      "    traffic network, it is not possible to turn. This means that at the intersections it is not possible to turn\n",
      "    left or right (4).\n",
      "\n",
      "    The intersections are equipped with traffic lights for traffic control (5). Each edge must turn green once during the phase cycle\n",
      "    and each phase is followed by a corresponding yellow phase and a red phase of at least 3\n",
      "    seconds each (6). In total, each traffic light must have a cycle time of 90 seconds (7).\n",
      "\n",
      "    Further define a traffic demand of a total of 100 vehicles. A vehicle should start every 2 seconds in the simulation (8). The vehicles should\n",
      "    start alternately at the outer edges of the traffic network in a clockwise direction (9).\n",
      "\n",
      "    Then enable the simulation of the traffic demand within the traffic network using a\n",
      "    SUMO config file (10).\n",
      "\n",
      "    To determine the macroscopic traffic size - average waiting time per edge - continue to create a\n",
      "    Python script that conducts the simulation (11).\n",
      "    Use traci within the script to determine the macroscopic traffic size\n",
      "    - average waiting time per edge - during the simulation (12). Use this Jupyter Notebook and the already prepared next cell for this.\n",
      "\n",
      "\n",
      "     \n"
     ]
    }
   ],
   "execution_count": 1
  },
  {
   "cell_type": "code",
   "metadata": {
    "ExecuteTime": {
     "end_time": "2025-03-26T13:52:57.732797Z",
     "start_time": "2025-03-26T13:52:57.601288Z"
    }
   },
   "source": [
    "from sumolib import checkBinary\n",
    "import os\n",
    "import traci\n",
    "import sys\n",
    "\n",
    "if 'SUMO_HOME' in os.environ:\n",
    "    tools = os.path.join(os.environ['SUMO_HOME'], 'tools')\n",
    "    sys.path.append(tools)\n",
    "else:\n",
    "    sys.exit(\"please declare environment variable 'SUMO_HOME'\")\n"
   ],
   "outputs": [],
   "execution_count": 2
  },
  {
   "metadata": {
    "ExecuteTime": {
     "end_time": "2025-03-26T13:53:02.670117Z",
     "start_time": "2025-03-26T13:53:02.660120Z"
    }
   },
   "cell_type": "code",
   "source": [
    "def run():\n",
    "    \"\"\"execute the TraCI control loop\"\"\"\n",
    "    # Data structures to track waiting times and vehicle counts per edge\n",
    "    total_waiting_time = {}\n",
    "    vehicle_count = {}\n",
    "    vehicle_current_edge = {}  # Track each vehicle's current edge\n",
    "\n",
    "    # main loop. do something every simulation step until no more vehicles are\n",
    "    # loaded or running\n",
    "    while traci.simulation.getMinExpectedNumber() > 0:\n",
    "        traci.simulationStep()\n",
    "        # Update vehicle positions and count entries per edge\n",
    "        for veh_id in traci.vehicle.getIDList():\n",
    "            current_edge = traci.vehicle.getRoadID(veh_id)\n",
    "            previous_edge = vehicle_current_edge.get(veh_id, None) #return None if no edge found\n",
    "\n",
    "            if current_edge != previous_edge:\n",
    "                #Vehicle enter new edge\n",
    "                if current_edge not in vehicle_count:\n",
    "                    vehicle_count[current_edge] = 0\n",
    "                vehicle_count[current_edge] += 1\n",
    "                vehicle_current_edge[veh_id] = current_edge # set previous edge = current edge\n",
    "\n",
    "        #Calculate waiting time for each edge\n",
    "        for edge_id in traci.edge.getIDList():\n",
    "            waiting_time = traci.edge.getWaitingTime(edge_id)\n",
    "            if edge_id not in total_waiting_time:\n",
    "                total_waiting_time[edge_id] = 0\n",
    "            total_waiting_time[edge_id] += waiting_time\n",
    "\n",
    "    # end simulation\n",
    "    sys.stdout.flush()\n",
    "    traci.close()\n",
    "\n",
    "    # #Calculate avg waiting time on each edge\n",
    "    average_waiting_time = {}\n",
    "    print(\"Total waiting time per edge:\")\n",
    "    for edge, time in total_waiting_time.items():\n",
    "        if edge in ['E0','E1', '-E2', 'E3']: #Only this edge have traffic flow on it\n",
    "            print(f\"{edge}: {time}s\")\n",
    "            count = vehicle_count[edge]\n",
    "            if count > 0:\n",
    "                average_waiting_time[edge] = total_waiting_time[edge] / count\n",
    "            else:\n",
    "                average_waiting_time[edge] = 0\n",
    "\n",
    "    #Print result\n",
    "    print(\"Average waiting time per edge:\")\n",
    "    for edge in average_waiting_time:\n",
    "        print(f\"{edge}: {round(average_waiting_time[edge],2)} s\")"
   ],
   "outputs": [],
   "execution_count": 3
  },
  {
   "metadata": {
    "ExecuteTime": {
     "end_time": "2025-03-26T13:53:15.331170Z",
     "start_time": "2025-03-26T13:53:08.043481Z"
    }
   },
   "cell_type": "code",
   "source": [
    "if __name__ == \"__main__\":\n",
    "    sumoBinary = checkBinary('sumo-gui')\n",
    "    traci.start([sumoBinary, \"-c\", \"sumo_config.sumocfg\"]) #Restart Kernel if you get an error here\n",
    "    # Start the simulation with the network and route files\n",
    "\n",
    "    run()"
   ],
   "outputs": [
    {
     "name": "stdout",
     "output_type": "stream",
     "text": [
      "Total waiting time per edge:\n",
      "-E2: 10271.0s\n",
      "E0: 10617.0s\n",
      "E1: 13354.0s\n",
      "E3: 9639.0s\n",
      "Average waiting time per edge:\n",
      "-E2: 93.37 s\n",
      "E0: 94.79 s\n",
      "E1: 120.31 s\n",
      "E3: 90.08 s\n"
     ]
    }
   ],
   "execution_count": 4
  },
  {
   "cell_type": "code",
   "execution_count": null,
   "metadata": {},
   "outputs": [],
   "source": []
  }
 ],
 "metadata": {
  "kernelspec": {
   "display_name": "Python 3",
   "language": "python",
   "name": "python3"
  },
  "language_info": {
   "codemirror_mode": {
    "name": "ipython",
    "version": 3
   },
   "file_extension": ".py",
   "mimetype": "text/x-python",
   "name": "python",
   "nbconvert_exporter": "python",
   "pygments_lexer": "ipython3",
   "version": "3.8.5"
  }
 },
 "nbformat": 4,
 "nbformat_minor": 4
}
